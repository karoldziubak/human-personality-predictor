{
 "cells": [
  {
   "cell_type": "code",
   "execution_count": 1,
   "id": "b613b39e",
   "metadata": {},
   "outputs": [
    {
     "name": "stdout",
     "output_type": "stream",
     "text": [
      "All models: ['random_forest', 'xgboost', 'light_gbm', 'catboost', 'logistic_regression']\n"
     ]
    },
    {
     "data": {
      "text/plain": [
       "{'logistic_regression': {'model': <src.models.baseline_logistic_regression.LogisticRegressionModel at 0x2153f674ca0>,\n",
       "  'scaled': True},\n",
       " 'random_forest': {'model': <src.models.ensemble_random_forest.RandomForestModel at 0x2153db7d9f0>,\n",
       "  'scaled': False},\n",
       " 'xgboost': {'model': <src.models.ensemble_xgboost.XGBoostModel at 0x2153f3d1810>,\n",
       "  'scaled': False}}"
      ]
     },
     "execution_count": 1,
     "metadata": {},
     "output_type": "execute_result"
    }
   ],
   "source": [
    "import time\n",
    "import sys\n",
    "sys.path.append(\"..\")\n",
    "\n",
    "from src.data_loader import DataLoader\n",
    "from src.models import model_parameters\n",
    "import pandas as pd\n",
    "pd.set_option('display.max_colwidth', None)\n",
    "\n",
    "# Load preprocessed data\n",
    "dl = DataLoader(random_state=42)\n",
    "\n",
    "# Due to the limited amount of memory and time available, choose models that you want to compare - uncomment the ones you want\n",
    "print(f'All models: {list(model_parameters.keys())}')\n",
    "models_to_compare = [\n",
    "    'logistic_regression',\n",
    "    'random_forest',\n",
    "    'xgboost', \n",
    "    # 'light_gbm', \n",
    "    # 'catboost', \n",
    "    ]\n",
    "models= {name: model_parameters[name] for name in models_to_compare}\n",
    "models"
   ]
  },
  {
   "cell_type": "code",
   "execution_count": 2,
   "id": "3b09267d",
   "metadata": {},
   "outputs": [
    {
     "name": "stdout",
     "output_type": "stream",
     "text": [
      "Current model: logistic_regression\n",
      "Time: 4.04 [s]\n",
      "Current model: random_forest\n",
      "Time: 6.69 [s]\n",
      "Current model: xgboost\n",
      "Time: 2.35 [s]\n"
     ]
    }
   ],
   "source": [
    "results = []\n",
    "for name, config in models.items():\n",
    "    print(f'Current model: {name}')\n",
    "    X_train, X_test, y_train, y_test = dl.get_data_train_test(scaled=config['scaled'], test_size=0.2)\n",
    "\n",
    "    t0 = time.time()\n",
    "    model = config['model']\n",
    "    model.train(X_train, y_train)\n",
    "    metrics = model.evaluate(X_test, y_test)\n",
    "    et = round(time.time() - t0, 2)\n",
    "    results.append({\n",
    "        'model': name,\n",
    "        'execution_time': et,\n",
    "        **metrics,\n",
    "        'best_score': model.model.best_score_,\n",
    "        'best_params': model.model.best_params_\n",
    "    })\n",
    "    print(f'Time: {et:.2f} [s]')\n",
    "\n",
    "df_results = pd.DataFrame(results).sort_values(by=\"accuracy\", ascending=False).reset_index(drop=True)"
   ]
  },
  {
   "cell_type": "code",
   "execution_count": 3,
   "id": "493d6c58",
   "metadata": {},
   "outputs": [
    {
     "data": {
      "text/html": [
       "<div>\n",
       "<style scoped>\n",
       "    .dataframe tbody tr th:only-of-type {\n",
       "        vertical-align: middle;\n",
       "    }\n",
       "\n",
       "    .dataframe tbody tr th {\n",
       "        vertical-align: top;\n",
       "    }\n",
       "\n",
       "    .dataframe thead th {\n",
       "        text-align: right;\n",
       "    }\n",
       "</style>\n",
       "<table border=\"1\" class=\"dataframe\">\n",
       "  <thead>\n",
       "    <tr style=\"text-align: right;\">\n",
       "      <th></th>\n",
       "      <th>model</th>\n",
       "      <th>execution_time</th>\n",
       "      <th>accuracy</th>\n",
       "      <th>best_score</th>\n",
       "      <th>best_params</th>\n",
       "    </tr>\n",
       "  </thead>\n",
       "  <tbody>\n",
       "    <tr>\n",
       "      <th>0</th>\n",
       "      <td>logistic_regression</td>\n",
       "      <td>4.04</td>\n",
       "      <td>0.932406</td>\n",
       "      <td>0.925946</td>\n",
       "      <td>{'solver': 'liblinear', 'C': 0.0001}</td>\n",
       "    </tr>\n",
       "    <tr>\n",
       "      <th>1</th>\n",
       "      <td>random_forest</td>\n",
       "      <td>6.69</td>\n",
       "      <td>0.932406</td>\n",
       "      <td>0.925946</td>\n",
       "      <td>{'n_estimators': 300, 'min_samples_split': 5, 'max_depth': 4}</td>\n",
       "    </tr>\n",
       "    <tr>\n",
       "      <th>2</th>\n",
       "      <td>xgboost</td>\n",
       "      <td>2.35</td>\n",
       "      <td>0.932406</td>\n",
       "      <td>0.925946</td>\n",
       "      <td>{'subsample': 0.5, 'n_estimators': 100, 'max_depth': 4, 'learning_rate': 0.01}</td>\n",
       "    </tr>\n",
       "  </tbody>\n",
       "</table>\n",
       "</div>"
      ],
      "text/plain": [
       "                 model  execution_time  accuracy  best_score  \\\n",
       "0  logistic_regression            4.04  0.932406    0.925946   \n",
       "1        random_forest            6.69  0.932406    0.925946   \n",
       "2              xgboost            2.35  0.932406    0.925946   \n",
       "\n",
       "                                                                      best_params  \n",
       "0                                            {'solver': 'liblinear', 'C': 0.0001}  \n",
       "1                   {'n_estimators': 300, 'min_samples_split': 5, 'max_depth': 4}  \n",
       "2  {'subsample': 0.5, 'n_estimators': 100, 'max_depth': 4, 'learning_rate': 0.01}  "
      ]
     },
     "execution_count": 3,
     "metadata": {},
     "output_type": "execute_result"
    }
   ],
   "source": [
    "df_results"
   ]
  }
 ],
 "metadata": {
  "kernelspec": {
   "display_name": ".venv",
   "language": "python",
   "name": "python3"
  },
  "language_info": {
   "codemirror_mode": {
    "name": "ipython",
    "version": 3
   },
   "file_extension": ".py",
   "mimetype": "text/x-python",
   "name": "python",
   "nbconvert_exporter": "python",
   "pygments_lexer": "ipython3",
   "version": "3.10.5"
  }
 },
 "nbformat": 4,
 "nbformat_minor": 5
}
