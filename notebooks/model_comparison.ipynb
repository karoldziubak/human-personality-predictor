{
 "cells": [
  {
   "cell_type": "code",
   "execution_count": 1,
   "id": "b613b39e",
   "metadata": {},
   "outputs": [
    {
     "data": {
      "text/html": [
       "<div>\n",
       "<style scoped>\n",
       "    .dataframe tbody tr th:only-of-type {\n",
       "        vertical-align: middle;\n",
       "    }\n",
       "\n",
       "    .dataframe tbody tr th {\n",
       "        vertical-align: top;\n",
       "    }\n",
       "\n",
       "    .dataframe thead th {\n",
       "        text-align: right;\n",
       "    }\n",
       "</style>\n",
       "<table border=\"1\" class=\"dataframe\">\n",
       "  <thead>\n",
       "    <tr style=\"text-align: right;\">\n",
       "      <th></th>\n",
       "      <th>model</th>\n",
       "      <th>accuracy</th>\n",
       "      <th>best_params</th>\n",
       "    </tr>\n",
       "  </thead>\n",
       "  <tbody>\n",
       "    <tr>\n",
       "      <th>0</th>\n",
       "      <td>random_forest</td>\n",
       "      <td>0.92931</td>\n",
       "      <td>{'n_estimators': 150, 'min_samples_split': 11, 'max_depth': 8}</td>\n",
       "    </tr>\n",
       "    <tr>\n",
       "      <th>1</th>\n",
       "      <td>logistic_regression</td>\n",
       "      <td>0.92931</td>\n",
       "      <td>{'solver': 'liblinear', 'C': 0.615848211066026}</td>\n",
       "    </tr>\n",
       "  </tbody>\n",
       "</table>\n",
       "</div>"
      ],
      "text/plain": [
       "                 model  accuracy  \\\n",
       "0        random_forest   0.92931   \n",
       "1  logistic_regression   0.92931   \n",
       "\n",
       "                                                      best_params  \n",
       "0  {'n_estimators': 150, 'min_samples_split': 11, 'max_depth': 8}  \n",
       "1                 {'solver': 'liblinear', 'C': 0.615848211066026}  "
      ]
     },
     "execution_count": 1,
     "metadata": {},
     "output_type": "execute_result"
    }
   ],
   "source": [
    "import sys\n",
    "sys.path.append(\"..\")\n",
    "\n",
    "from src.data_loader import DataLoader\n",
    "from src.models import model_parameters\n",
    "import pandas as pd\n",
    "pd.set_option('display.max_colwidth', None)\n",
    "\n",
    "# Load preprocessed data\n",
    "dl = DataLoader()\n",
    "\n",
    "results = []\n",
    "for name, config in model_parameters.items():\n",
    "    X_train, X_test, y_train, y_test = dl.get_data_train_test(scaled=config['scaled'], test_size=0.2)\n",
    "\n",
    "    model = config['model']\n",
    "    model.train(X_train, y_train)\n",
    "    metrics = model.evaluate(X_test, y_test)\n",
    "\n",
    "    results.append({\n",
    "        'model': name,\n",
    "        **metrics,\n",
    "        'best_params': model.model.best_params_,\n",
    "    })\n",
    "\n",
    "# Show results\n",
    "df_results = pd.DataFrame(results).sort_values(by=\"accuracy\", ascending=False)\n",
    "df_results\n"
   ]
  }
 ],
 "metadata": {
  "kernelspec": {
   "display_name": ".venv",
   "language": "python",
   "name": "python3"
  },
  "language_info": {
   "codemirror_mode": {
    "name": "ipython",
    "version": 3
   },
   "file_extension": ".py",
   "mimetype": "text/x-python",
   "name": "python",
   "nbconvert_exporter": "python",
   "pygments_lexer": "ipython3",
   "version": "3.10.5"
  }
 },
 "nbformat": 4,
 "nbformat_minor": 5
}
