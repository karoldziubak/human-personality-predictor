{
 "cells": [
  {
   "cell_type": "code",
   "execution_count": null,
   "id": "b613b39e",
   "metadata": {},
   "outputs": [
    {
     "name": "stderr",
     "output_type": "stream",
     "text": [
      "c:\\Users\\karol\\source\\repos\\human-personality-predictor\\.venv\\lib\\site-packages\\sklearn\\model_selection\\_search.py:317: UserWarning: The total space of parameters 8 is smaller than n_iter=10. Running 8 iterations. For exhaustive searches, use GridSearchCV.\n",
      "  warnings.warn(\n"
     ]
    },
    {
     "data": {
      "text/html": [
       "<div>\n",
       "<style scoped>\n",
       "    .dataframe tbody tr th:only-of-type {\n",
       "        vertical-align: middle;\n",
       "    }\n",
       "\n",
       "    .dataframe tbody tr th {\n",
       "        vertical-align: top;\n",
       "    }\n",
       "\n",
       "    .dataframe thead th {\n",
       "        text-align: right;\n",
       "    }\n",
       "</style>\n",
       "<table border=\"1\" class=\"dataframe\">\n",
       "  <thead>\n",
       "    <tr style=\"text-align: right;\">\n",
       "      <th></th>\n",
       "      <th>model</th>\n",
       "      <th>accuracy</th>\n",
       "    </tr>\n",
       "  </thead>\n",
       "  <tbody>\n",
       "    <tr>\n",
       "      <th>0</th>\n",
       "      <td>random_forest</td>\n",
       "      <td>0.92931</td>\n",
       "    </tr>\n",
       "  </tbody>\n",
       "</table>\n",
       "</div>"
      ],
      "text/plain": [
       "           model  accuracy\n",
       "0  random_forest   0.92931"
      ]
     },
     "execution_count": 1,
     "metadata": {},
     "output_type": "execute_result"
    }
   ],
   "source": [
    "# notebooks/02_model_comparison.ipynb\n",
    "\n",
    "import sys\n",
    "sys.path.append(\"..\")\n",
    "\n",
    "from src.data_loader import DataLoader\n",
    "from src.models.random_forest import RandomForestModel\n",
    "import pandas as pd\n",
    "\n",
    "# Load preprocessed data\n",
    "dl = DataLoader()\n",
    "X_train_s, X_test_s, y_train_s, y_test_s = dl.get_data_train_test(scaled=True)\n",
    "X_train_u, X_test_u, y_train_u, y_test_u = dl.get_data_train_test(scaled=False)\n",
    "\n",
    "\n",
    "models = {\n",
    "    'random_forest': {\n",
    "        'model': RandomForestModel(param_grid={'n_estimators': [100,150], 'max_depth': [None, 10], 'min_samples_split': [2, 5]}),\n",
    "        'scaled': True,\n",
    "        }\n",
    "}\n",
    "\n",
    "results = []\n",
    "for name, config in models.items():\n",
    "    X_train, X_test, y_train, y_test = dl.get_data_train_test(scaled=config['scaled'])\n",
    "\n",
    "    model = config['model']\n",
    "    model.train(X_train, y_train)\n",
    "    metrics = model.evaluate(X_test, y_test)\n",
    "\n",
    "    results.append({\n",
    "        'model': name,\n",
    "        **metrics\n",
    "    })\n",
    "\n",
    "# Show results\n",
    "df_results = pd.DataFrame(results).sort_values(by=\"accuracy\", ascending=False)\n",
    "df_results\n"
   ]
  }
 ],
 "metadata": {
  "kernelspec": {
   "display_name": ".venv",
   "language": "python",
   "name": "python3"
  },
  "language_info": {
   "codemirror_mode": {
    "name": "ipython",
    "version": 3
   },
   "file_extension": ".py",
   "mimetype": "text/x-python",
   "name": "python",
   "nbconvert_exporter": "python",
   "pygments_lexer": "ipython3",
   "version": "3.10.5"
  }
 },
 "nbformat": 4,
 "nbformat_minor": 5
}
