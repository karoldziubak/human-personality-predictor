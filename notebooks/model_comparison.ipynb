{
 "cells": [
  {
   "cell_type": "code",
   "execution_count": null,
   "id": "b613b39e",
   "metadata": {},
   "outputs": [
    {
     "name": "stdout",
     "output_type": "stream",
     "text": [
      "Current model: random_forest\n",
      "Time: 11.40 s\n",
      "Current model: xgboost\n",
      "Time: 2.66 s\n",
      "Current model: light_gbm\n",
      "Time: 8.84 s\n",
      "Current model: logistic_regression\n",
      "Time: 0.16 s\n"
     ]
    },
    {
     "name": "stderr",
     "output_type": "stream",
     "text": [
      "c:\\Users\\karol\\source\\repos\\human-personality-predictor\\.venv\\lib\\site-packages\\sklearn\\model_selection\\_search.py:317: UserWarning: The total space of parameters 40 is smaller than n_iter=60. Running 40 iterations. For exhaustive searches, use GridSearchCV.\n",
      "  warnings.warn(\n"
     ]
    },
    {
     "data": {
      "text/html": [
       "<div>\n",
       "<style scoped>\n",
       "    .dataframe tbody tr th:only-of-type {\n",
       "        vertical-align: middle;\n",
       "    }\n",
       "\n",
       "    .dataframe tbody tr th {\n",
       "        vertical-align: top;\n",
       "    }\n",
       "\n",
       "    .dataframe thead th {\n",
       "        text-align: right;\n",
       "    }\n",
       "</style>\n",
       "<table border=\"1\" class=\"dataframe\">\n",
       "  <thead>\n",
       "    <tr style=\"text-align: right;\">\n",
       "      <th></th>\n",
       "      <th>model</th>\n",
       "      <th>accuracy</th>\n",
       "      <th>best_score</th>\n",
       "      <th>best_params</th>\n",
       "    </tr>\n",
       "  </thead>\n",
       "  <tbody>\n",
       "    <tr>\n",
       "      <th>0</th>\n",
       "      <td>xgboost</td>\n",
       "      <td>0.934394</td>\n",
       "      <td>0.925954</td>\n",
       "      <td>{'subsample': 0.8, 'n_estimators': 250, 'max_depth': 6, 'learning_rate': 0.01}</td>\n",
       "    </tr>\n",
       "    <tr>\n",
       "      <th>1</th>\n",
       "      <td>light_gbm</td>\n",
       "      <td>0.932406</td>\n",
       "      <td>0.925947</td>\n",
       "      <td>{'verbose': -1, 'subsample': 0.8, 'num_leaves': 78, 'n_estimators': 250, 'max_depth': 2, 'learning_rate': 0.01, 'colsample_bytree': 0.5}</td>\n",
       "    </tr>\n",
       "    <tr>\n",
       "      <th>2</th>\n",
       "      <td>logistic_regression</td>\n",
       "      <td>0.932406</td>\n",
       "      <td>0.925947</td>\n",
       "      <td>{'solver': 'liblinear', 'C': 0.0001}</td>\n",
       "    </tr>\n",
       "    <tr>\n",
       "      <th>3</th>\n",
       "      <td>random_forest</td>\n",
       "      <td>0.930417</td>\n",
       "      <td>0.925954</td>\n",
       "      <td>{'n_estimators': 100, 'min_samples_split': 9, 'max_depth': None}</td>\n",
       "    </tr>\n",
       "  </tbody>\n",
       "</table>\n",
       "</div>"
      ],
      "text/plain": [
       "                 model  accuracy  best_score  \\\n",
       "0              xgboost  0.934394    0.925954   \n",
       "1            light_gbm  0.932406    0.925947   \n",
       "2  logistic_regression  0.932406    0.925947   \n",
       "3        random_forest  0.930417    0.925954   \n",
       "\n",
       "                                                                                                                                best_params  \n",
       "0                                                            {'subsample': 0.8, 'n_estimators': 250, 'max_depth': 6, 'learning_rate': 0.01}  \n",
       "1  {'verbose': -1, 'subsample': 0.8, 'num_leaves': 78, 'n_estimators': 250, 'max_depth': 2, 'learning_rate': 0.01, 'colsample_bytree': 0.5}  \n",
       "2                                                                                                      {'solver': 'liblinear', 'C': 0.0001}  \n",
       "3                                                                          {'n_estimators': 100, 'min_samples_split': 9, 'max_depth': None}  "
      ]
     },
     "execution_count": 1,
     "metadata": {},
     "output_type": "execute_result"
    }
   ],
   "source": [
    "import sys\n",
    "sys.path.append(\"..\")\n",
    "\n",
    "from src.data_loader import DataLoader\n",
    "from src.models import model_parameters\n",
    "import pandas as pd\n",
    "pd.set_option('display.max_colwidth', None)\n",
    "# measure time\n",
    "import time\n",
    "\n",
    "# Load preprocessed data\n",
    "dl = DataLoader(random_state=42)\n",
    "\n",
    "results = []\n",
    "for name, config in model_parameters.items():\n",
    "    print(f'Current model: {name}')\n",
    "    t0 = time.time()\n",
    "    X_train, X_test, y_train, y_test = dl.get_data_train_test(scaled=config['scaled'], test_size=0.2)\n",
    "\n",
    "    model = config['model']\n",
    "    model.train(X_train, y_train)\n",
    "    metrics = model.evaluate(X_test, y_test)\n",
    "\n",
    "    results.append({\n",
    "        'model': name,\n",
    "        **metrics,\n",
    "        'best_score': model.model.best_score_,\n",
    "        'best_params': model.model.best_params_\n",
    "    })\n",
    "    print(f'Time: {time.time() - t0:.2f} [s]\\n')\n",
    "\n",
    "# Show results\n",
    "df_results = pd.DataFrame(results).sort_values(by=\"accuracy\", ascending=False).reset_index(drop=True)\n",
    "df_results\n"
   ]
  }
 ],
 "metadata": {
  "kernelspec": {
   "display_name": ".venv",
   "language": "python",
   "name": "python3"
  },
  "language_info": {
   "codemirror_mode": {
    "name": "ipython",
    "version": 3
   },
   "file_extension": ".py",
   "mimetype": "text/x-python",
   "name": "python",
   "nbconvert_exporter": "python",
   "pygments_lexer": "ipython3",
   "version": "3.10.5"
  }
 },
 "nbformat": 4,
 "nbformat_minor": 5
}
